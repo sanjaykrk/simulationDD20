{
 "cells": [
  {
   "cell_type": "markdown",
   "metadata": {},
   "source": [
    "## QT Assignment\n",
    "A high-performance computing facility has 20 identical processors. Jobs (processes or threads\n",
    "or tasks) arrive to the facility and joins a queue and wait for a free processor. A job consumes\n",
    "250 milli seconds on an average and then exits the system. The jobs flow into the system is\n",
    "shown below:<br>\n",
    "Time (hrs) Jobs Volume (jobs/second)<br>\n",
    "8:00 45<br>\n",
    "8:30 67<br>\n",
    "9:00 81<br>\n",
    "9:30 87<br>\n",
    "10:00 86<br>\n",
    "10:30 72<br>\n",
    "11:00 65<br>\n",
    "11:30 58<br>\n",
    "12:00 and later 47<br>\n",
    "\n",
    "Answer the following questions:\n",
    "1. When will the queue appear in this system?\n",
    "2. Plot the graph of number of jobs in the queue (y-axis) versus time (x-axis).\n",
    "3. What is the maximum queue length?\n",
    "4. Find the total delay when the jobs are in the queue."
   ]
  },
  {
   "cell_type": "code",
   "execution_count": 1,
   "metadata": {},
   "outputs": [],
   "source": [
    "service_time = 0.250                            #250ms\n",
    "job_rate = [45, 67, 81, 87, 86, 72, 65, 58, 47] #job rate every 30 min\n",
    "Servers = 20                                    #number of servers"
   ]
  },
  {
   "cell_type": "code",
   "execution_count": 2,
   "metadata": {},
   "outputs": [
    {
     "name": "stdout",
     "output_type": "stream",
     "text": [
      "Number of Arrivals: 1094400\n"
     ]
    }
   ],
   "source": [
    "#job_rate: jobs/sec for 30-min interval\n",
    "#30min = 1800seconds\n",
    "AT=[]                                       #list of arrival times,\n",
    "\n",
    "for index in range(len(job_rate)):\n",
    "    iat = 1/job_rate[index]                 #IAT for this 30min interval\n",
    "    base = 30*60*index                      #start time for this 30min interval \n",
    "    for i in range(30*60* job_rate[index]):\n",
    "        #AT.append(round(base + iat*i, 3))\n",
    "        AT.append(base + iat*i)              \n",
    "        \n",
    "print(\"Number of Arrivals: {}\".format(len(AT)))\n",
    "#print(AT[0], AT[45], AT[45*60*30])\n",
    "#print(AT[45*60*30+67*60*30 + 81*60*30 + 87*60*30 + 86*60*30 + 72*60*30 + 65*60*30 +58*60*30 +47*60*30-1])"
   ]
  },
  {
   "cell_type": "code",
   "execution_count": 3,
   "metadata": {},
   "outputs": [],
   "source": [
    "#SAT: Servers next available time\n",
    "#Initially All available at time quantum 0. \n",
    "SAT = [0]*Servers                           #list next available times for servers\n",
    "total_waiting_time = 0                      #cumulative waiting time for all jobs\n",
    "server_index = min(SAT)                     #index of earliest available server\n",
    "addition_to_queue = []                      #times when jobs are added to queue\n",
    "departure_from_queue = []                   #times when jobs depart from queue\n",
    "\n",
    "for arrival_time in AT:\n",
    "    server_index = SAT.index(min(SAT))\n",
    "    #server's next available time\n",
    "    if arrival_time < SAT[server_index]:\n",
    "        addition_to_queue.append(arrival_time)\n",
    "        departure_from_queue.append(SAT[server_index])\n",
    "        total_waiting_time = total_waiting_time + SAT[server_index] - arrival_time\n",
    "        SAT[server_index] = SAT[server_index] + service_time\n",
    "    else:\n",
    "        SAT[server_index] = arrival_time + service_time\n"
   ]
  },
  {
   "cell_type": "code",
   "execution_count": 4,
   "metadata": {},
   "outputs": [
    {
     "name": "stdout",
     "output_type": "stream",
     "text": [
      "Total Arrival: 1094400\n",
      "Total Waiting Time(sec): 88127087.16395944\n",
      "Total Waiting Time(min): 1468784.7860659908\n"
     ]
    }
   ],
   "source": [
    "print(\"Total Arrival: {}\".format(len(AT)))\n",
    "print(\"Total Waiting Time(sec): {}\".format(total_waiting_time))\n",
    "print(\"Total Waiting Time(min): {}\".format(total_waiting_time/60))"
   ]
  },
  {
   "cell_type": "code",
   "execution_count": 5,
   "metadata": {},
   "outputs": [],
   "source": [
    "#print(len(addition_to_queue), len(departure_from_queue))\n",
    "#print(addition_to_queue[-1], departure_from_queue[-1])"
   ]
  },
  {
   "cell_type": "code",
   "execution_count": 6,
   "metadata": {},
   "outputs": [],
   "source": [
    "acount = 0                      #arrival count\n",
    "dcount = 0                      #departure count\n",
    "eventtime = []                  #event time, basically merge of arrival times and departures\n",
    "qsize = []                      #number of jobs in queuue at corresponding time in eventtime\n",
    "queuelen = 0                    #current queue length\n",
    "while (acount < len(addition_to_queue)):\n",
    "    if departure_from_queue[dcount] <= addition_to_queue[acount]:\n",
    "        queuelen = queuelen - 1\n",
    "        eventtime.append(departure_from_queue[dcount])\n",
    "        qsize.append(queuelen)\n",
    "        dcount = dcount + 1\n",
    "    else:\n",
    "        queuelen = queuelen + 1\n",
    "        eventtime.append(addition_to_queue[acount])\n",
    "        qsize.append(queuelen)\n",
    "        acount = acount + 1\n",
    "while (dcount < len(departure_from_queue)):\n",
    "    queuelen = queuelen = 1\n",
    "    eventtime.append(departure_from_queue[dcount])\n",
    "    qsize.append(queuelen)\n",
    "    dcount = dcount + 1\n",
    "#print(acount, dcount)\n",
    "#print(len(qsize), len(eventtime))"
   ]
  },
  {
   "cell_type": "code",
   "execution_count": 7,
   "metadata": {},
   "outputs": [
    {
     "data": {
      "text/plain": [
       "25200"
      ]
     },
     "execution_count": 7,
     "metadata": {},
     "output_type": "execute_result"
    }
   ],
   "source": [
    "maxqlen = max(qsize)\n",
    "maxqlen_index = qsize.index(maxqlen)\n",
    "maxqlen_etime = eventtime[maxqlen_index]\n",
    "eventtime.pop(maxqlen_index)\n",
    "qsize.pop(maxqlen_index)"
   ]
  },
  {
   "cell_type": "code",
   "execution_count": 9,
   "metadata": {},
   "outputs": [
    {
     "name": "stderr",
     "output_type": "stream",
     "text": [
      "/Volumes/Samsung_T5_MacOS/AppDev/Applications/anaconda3/lib/python3.7/site-packages/IPython/core/pylabtools.py:128: UserWarning: Creating legend with loc=\"best\" can be slow with large amounts of data.\n",
      "  fig.canvas.print_figure(bytes_io, **kw)\n"
     ]
    },
    {
     "data": {
      "image/png": "[encoded data removed]",
      "text/plain": [
       "<Figure size 432x288 with 1 Axes>"
      ]
     },
     "metadata": {
      "needs_background": "light"
     },
     "output_type": "display_data"
    }
   ],
   "source": [
    "import matplotlib.pyplot as plt\n",
    "plt.plot(eventtime, qsize)\n",
    "plt.plot(maxqlen_etime, maxqlen, 'r*', label = \"Max qlen: {}\".format(maxqlen))\n",
    "plt.xlabel(\"Time(sec)\")\n",
    "plt.ylabel(\"Number of waiting jobs\")\n",
    "plt.legend()\n",
    "plt.show()"
   ]
  },
  {
   "cell_type": "code",
   "execution_count": null,
   "metadata": {},
   "outputs": [],
   "source": []
  }
 ],
 "metadata": {
  "kernelspec": {
   "display_name": "Python 3",
   "language": "python",
   "name": "python3"
  },
  "language_info": {
   "codemirror_mode": {
    "name": "ipython",
    "version": 3
   },
   "file_extension": ".py",
   "mimetype": "text/x-python",
   "name": "python",
   "nbconvert_exporter": "python",
   "pygments_lexer": "ipython3",
   "version": "3.7.4"
  },
  "varInspector": {
   "cols": {
    "lenName": 16,
    "lenType": 16,
    "lenVar": 40
   },
   "kernels_config": {
    "python": {
     "delete_cmd_postfix": "",
     "delete_cmd_prefix": "del ",
     "library": "var_list.py",
     "varRefreshCmd": "print(var_dic_list())"
    },
    "r": {
     "delete_cmd_postfix": ") ",
     "delete_cmd_prefix": "rm(",
     "library": "var_list.r",
     "varRefreshCmd": "cat(var_dic_list()) "
    }
   },
   "types_to_exclude": [
    "module",
    "function",
    "builtin_function_or_method",
    "instance",
    "_Feature"
   ],
   "window_display": false
  }
 },
 "nbformat": 4,
 "nbformat_minor": 2
}
